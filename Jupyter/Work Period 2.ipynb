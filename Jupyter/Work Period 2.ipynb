{
 "cells": [
  {
   "cell_type": "markdown",
   "metadata": {},
   "source": [
    "1. Write a Python function create_confusion_matrix(actual, predicted) that takes\n",
    "two lists of integers (actual and predicted) representing the true and\n",
    "predicted labels of a binary classification problem. The function should return\n",
    "a confusion matrix as a 2x2 nested list in the format:\n",
    "\n",
    "                [[TP, FN],\n",
    "\n",
    "                [FP, TN]]\n",
    "\n",
    "        Use the following lists to test your function:\n",
    "\n",
    "                        actual = [1, 0, 1, 1, 0, 1, 0, 1, 0, 0, 1, 1, 0, 1]\n",
    "\n",
    "                        predicted = [1, 0, 1, 0, 0, 1, 0, 1, 0, 1, 0, 1, 0, 1]"
   ]
  },
  {
   "cell_type": "code",
   "execution_count": 1,
   "metadata": {},
   "outputs": [
    {
     "name": "stdout",
     "output_type": "stream",
     "text": [
      "[[6, 2], [1, 5]]\n"
     ]
    }
   ],
   "source": [
    "def create_confusion_matrix(actual, predicted):\n",
    "    # Initialize counts for True Positives (TP), False Negatives (FN), False Positives (FP), and True Negatives (TN)\n",
    "    TP = FN = FP = TN = 0\n",
    "    \n",
    "    # Iterate through actual and predicted lists\n",
    "    for a, p in zip(actual, predicted):\n",
    "        if a == 1 and p == 1:\n",
    "            TP += 1  # True Positive: actual is 1 and predicted is 1\n",
    "        elif a == 1 and p == 0:\n",
    "            FN += 1  # False Negative: actual is 1 but predicted is 0\n",
    "        elif a == 0 and p == 1:\n",
    "            FP += 1  # False Positive: actual is 0 but predicted is 1\n",
    "        elif a == 0 and p == 0:\n",
    "            TN += 1  # True Negative: actual is 0 and predicted is 0\n",
    "\n",
    "    # Return the confusion matrix as a nested list\n",
    "    return [[TP, FN], [FP, TN]]\n",
    "\n",
    "# Test the function with provided lists\n",
    "actual = [1, 0, 1, 1, 0, 1, 0, 1, 0, 0, 1, 1, 0, 1]\n",
    "predicted = [1, 0, 1, 0, 0, 1, 0, 1, 0, 1, 0, 1, 0, 1]\n",
    "\n",
    "confusion_matrix = create_confusion_matrix(actual, predicted)\n",
    "print(confusion_matrix)\n"
   ]
  },
  {
   "cell_type": "markdown",
   "metadata": {},
   "source": [
    "2. Using the confusion matrix obtained from the first problem, write a Python\n",
    "function calculate_accuracy(matrix) that calculates and returns the accuracy\n",
    "of the classification model. Test your function using the confusion matrix from\n",
    "Problem 1"
   ]
  },
  {
   "cell_type": "code",
   "execution_count": 2,
   "metadata": {},
   "outputs": [
    {
     "name": "stdout",
     "output_type": "stream",
     "text": [
      "0.7857142857142857\n"
     ]
    }
   ],
   "source": [
    "def calculate_accuracy(matrix):\n",
    "    # Extract the values from the confusion matrix\n",
    "    TP = matrix[0][0]\n",
    "    FN = matrix[0][1]\n",
    "    FP = matrix[1][0]\n",
    "    TN = matrix[1][1]\n",
    "    \n",
    "    # Calculate accuracy\n",
    "    accuracy = (TP + TN) / (TP + TN + FP + FN)\n",
    "    \n",
    "    return accuracy\n",
    "\n",
    "# Test the function using the confusion matrix from Problem 1\n",
    "confusion_matrix = [[6, 2], [1, 5]]\n",
    "accuracy = calculate_accuracy(confusion_matrix)\n",
    "print(accuracy)  # Output: 0.7857142857142857"
   ]
  },
  {
   "cell_type": "markdown",
   "metadata": {},
   "source": [
    "3. Write a Python function calculate_precision_recall(matrix) that takes a\n",
    "confusion matrix as input and returns the precision and recall of the\n",
    "classification model."
   ]
  },
  {
   "cell_type": "code",
   "execution_count": 3,
   "metadata": {},
   "outputs": [
    {
     "name": "stdout",
     "output_type": "stream",
     "text": [
      "Precision: 0.8571428571428571, Recall: 0.75\n"
     ]
    }
   ],
   "source": [
    "def calculate_precision_recall(matrix):\n",
    "    # Extract the values from the confusion matrix\n",
    "    TP = matrix[0][0]\n",
    "    FN = matrix[0][1]\n",
    "    FP = matrix[1][0]\n",
    "    TN = matrix[1][1]\n",
    "    \n",
    "    # Calculate precision\n",
    "    precision = TP / (TP + FP) if (TP + FP) != 0 else 0\n",
    "    \n",
    "    # Calculate recall\n",
    "    recall = TP / (TP + FN) if (TP + FN) != 0 else 0\n",
    "    \n",
    "    return precision, recall\n",
    "\n",
    "# Test the function using the confusion matrix from Problem 1\n",
    "confusion_matrix = [[6, 2], [1, 5]]\n",
    "precision, recall = calculate_precision_recall(confusion_matrix)\n",
    "print(f\"Precision: {precision}, Recall: {recall}\")"
   ]
  },
  {
   "cell_type": "markdown",
   "metadata": {},
   "source": [
    "4. Create a function calculate_f1_score(matrix) that computes the F1 score\n",
    "based on the confusion matrix. Use the confusion matrix and the results from\n",
    "Problem 3 to test your function."
   ]
  },
  {
   "cell_type": "code",
   "execution_count": 4,
   "metadata": {},
   "outputs": [
    {
     "name": "stdout",
     "output_type": "stream",
     "text": [
      "F1 Score: 0.7999999999999999\n"
     ]
    }
   ],
   "source": [
    "def calculate_f1_score(matrix):\n",
    "    # Extract precision and recall from the given confusion matrix\n",
    "    precision, recall = calculate_precision_recall(matrix)\n",
    "    \n",
    "    # Calculate F1 score\n",
    "    if (precision + recall) != 0:\n",
    "        f1_score = 2 * (precision * recall) / (precision + recall)\n",
    "    else:\n",
    "        f1_score = 0\n",
    "        \n",
    "    return f1_score\n",
    "\n",
    "# Test the function using the confusion matrix from Problem 1\n",
    "confusion_matrix = [[6, 2], [1, 5]]\n",
    "f1_score = calculate_f1_score(confusion_matrix)\n",
    "print(f\"F1 Score: {f1_score}\")"
   ]
  },
  {
   "cell_type": "markdown",
   "metadata": {},
   "source": [
    "5. Write a Python script to visualize a confusion matrix using the matplotlib\n",
    "library. Create a function plot_confusion_matrix(matrix) that takes a confusion\n",
    "matrix and plots it using matplotlib. Label the axes as \"Predicted\" and\n",
    "\"Actual\", and add the TP, FP, FN, and TN values inside the cells. Use the\n",
    "confusion matrix from Problem 1 as input"
   ]
  },
  {
   "cell_type": "code",
   "execution_count": 5,
   "metadata": {},
   "outputs": [
    {
     "data": {
      "image/png": "[encoded data removed]",
      "text/plain": [
       "<Figure size 640x480 with 2 Axes>"
      ]
     },
     "metadata": {},
     "output_type": "display_data"
    }
   ],
   "source": [
    "import matplotlib.pyplot as plt\n",
    "\n",
    "def plot_confusion_matrix(matrix):\n",
    "    # Create the plot\n",
    "    fig, ax = plt.subplots()\n",
    "    \n",
    "    # Display the matrix as a heatmap\n",
    "    cax = ax.matshow(matrix, cmap=\"Blues\")\n",
    "    \n",
    "    # Annotate each cell manually\n",
    "    ax.text(0, 0, f\"{matrix[0][0]}\", ha='center', va='center', color='black', fontsize=12, fontweight='bold')  # TP\n",
    "    ax.text(1, 0, f\"{matrix[0][1]}\", ha='center', va='center', color='black', fontsize=12, fontweight='bold')  # FN\n",
    "    ax.text(0, 1, f\"{matrix[1][0]}\", ha='center', va='center', color='black', fontsize=12, fontweight='bold')  # FP\n",
    "    ax.text(1, 1, f\"{matrix[1][1]}\", ha='center', va='center', color='black', fontsize=12, fontweight='bold')  # TN\n",
    "\n",
    "    # Set axis labels and ticks\n",
    "    ax.set_xlabel('Predicted')\n",
    "    ax.set_ylabel('Actual')\n",
    "    ax.set_xticks([0, 1])\n",
    "    ax.set_yticks([0, 1])\n",
    "    ax.set_xticklabels(['Positive', 'Negative'])\n",
    "    ax.set_yticklabels(['Positive', 'Negative'])\n",
    "    \n",
    "    # Add a color bar\n",
    "    plt.colorbar(cax)\n",
    "\n",
    "    # Display the plot\n",
    "    plt.title('Confusion Matrix')\n",
    "    plt.show()\n",
    "\n",
    "# Test the function using the confusion matrix from Problem 1\n",
    "confusion_matrix = [[6, 2], [1, 5]]\n",
    "plot_confusion_matrix(confusion_matrix)\n"
   ]
  }
 ],
 "metadata": {
  "kernelspec": {
   "display_name": "gpu_env",
   "language": "python",
   "name": "python3"
  },
  "language_info": {
   "codemirror_mode": {
    "name": "ipython",
    "version": 3
   },
   "file_extension": ".py",
   "mimetype": "text/x-python",
   "name": "python",
   "nbconvert_exporter": "python",
   "pygments_lexer": "ipython3",
   "version": "3.8.20"
  }
 },
 "nbformat": 4,
 "nbformat_minor": 2
}
