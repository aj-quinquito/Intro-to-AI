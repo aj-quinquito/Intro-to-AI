{
 "cells": [
  {
   "cell_type": "markdown",
   "metadata": {},
   "source": [
    "1. Finish calculating the information gain for the remaining features in the classroom example, so Temperature, Humidity and Windy."
   ]
  },
  {
   "cell_type": "code",
   "execution_count": 50,
   "metadata": {},
   "outputs": [],
   "source": [
    "import numpy as np\n",
    "import matplotlib.pyplot as plt\n",
    "from scipy.stats import entropy"
   ]
  },
  {
   "cell_type": "code",
   "execution_count": 51,
   "metadata": {},
   "outputs": [],
   "source": [
    "# Function to calculate entropy\n",
    "def calc_entropy(yes, no):\n",
    "    total = yes + no\n",
    "    if total == 0:\n",
    "        return 0\n",
    "    p_yes = yes / total\n",
    "    p_no = no / total\n",
    "    if p_yes == 0 or p_no == 0:\n",
    "        return 0  # If all samples belong to one class, entropy is zero\n",
    "    return -(p_yes * np.log2(p_yes) + p_no * np.log2(p_no))"
   ]
  },
  {
   "cell_type": "code",
   "execution_count": 52,
   "metadata": {},
   "outputs": [],
   "source": [
    "# Function to calculate information gain\n",
    "def calc_info_gain(feature_data, total_entropy, total_samples):\n",
    "    weighted_entropy = 0\n",
    "    for value, counts in feature_data.items():\n",
    "        yes, no = counts\n",
    "        subset_entropy = calc_entropy(yes, no)\n",
    "        subset_total = yes + no\n",
    "        weighted_entropy += (subset_total / total_samples) * subset_entropy\n",
    "    return total_entropy - weighted_entropy"
   ]
  },
  {
   "cell_type": "code",
   "execution_count": 53,
   "metadata": {},
   "outputs": [
    {
     "name": "stdout",
     "output_type": "stream",
     "text": [
      "Total Entropy (PlayTennis): 0.9403\n"
     ]
    }
   ],
   "source": [
    "# Data for PlayTennis (Yes = 9, No = 5)\n",
    "total_yes = 9\n",
    "total_no = 5\n",
    "total_samples = total_yes + total_no\n",
    "total_entropy = calc_entropy(total_yes, total_no)\n",
    "\n",
    "print(f\"Total Entropy (PlayTennis): {total_entropy:.4f}\")"
   ]
  },
  {
   "cell_type": "code",
   "execution_count": 54,
   "metadata": {},
   "outputs": [
    {
     "name": "stdout",
     "output_type": "stream",
     "text": [
      "Information Gain for Outlook: 0.2467\n"
     ]
    }
   ],
   "source": [
    "# Data for Outlook: Sunny = [2 Yes, 3 No], Overcast = [4 Yes, 0 No], Rainy = [3 Yes, 2 No]\n",
    "outlook_data = {'Sunny': [2, 3], 'Overcast': [4, 0], 'Rainy': [3, 2]}\n",
    "ig_outlook = calc_info_gain(outlook_data, total_entropy, total_samples)\n",
    "\n",
    "print(f\"Information Gain for Outlook: {ig_outlook:.4f}\")"
   ]
  },
  {
   "cell_type": "code",
   "execution_count": 55,
   "metadata": {},
   "outputs": [
    {
     "name": "stdout",
     "output_type": "stream",
     "text": [
      "Entropy for Sunny: 0.9710\n",
      "Entropy for Overcast: 0.0000\n",
      "Entropy for Rainy: 0.9710\n"
     ]
    }
   ],
   "source": [
    "# Entropy values for each category in Outlook\n",
    "entropy_sunny = calc_entropy(2, 3)\n",
    "entropy_overcast = calc_entropy(4, 0)\n",
    "entropy_rainy = calc_entropy(3, 2)\n",
    "\n",
    "print(f\"Entropy for Sunny: {entropy_sunny:.4f}\")\n",
    "print(f\"Entropy for Overcast: {entropy_overcast:.4f}\")\n",
    "print(f\"Entropy for Rainy: {entropy_rainy:.4f}\")"
   ]
  },
  {
   "cell_type": "code",
   "execution_count": 56,
   "metadata": {},
   "outputs": [
    {
     "name": "stdout",
     "output_type": "stream",
     "text": [
      "Information Gain for Temperature: 0.2610\n"
     ]
    }
   ],
   "source": [
    "# Data for Temperature: Hot = [2 Yes, 2 No], Mild = [4 Yes, 2 No], Cool = [3 Yes, 0 No]\n",
    "temperature_data = {'Hot': [2, 2], 'Mild': [4, 2], 'Cool': [3, 0]}\n",
    "ig_temperature = calc_info_gain(temperature_data, total_entropy, total_samples)\n",
    "\n",
    "print(f\"Information Gain for Temperature: {ig_temperature:.4f}\")"
   ]
  },
  {
   "cell_type": "code",
   "execution_count": 57,
   "metadata": {},
   "outputs": [
    {
     "name": "stdout",
     "output_type": "stream",
     "text": [
      "Information Gain for Humidity: 0.4477\n"
     ]
    }
   ],
   "source": [
    "# Data for Humidity: High = [3 Yes, 4 No], Normal = [6 Yes, 0 No]\n",
    "humidity_data = {'High': [3, 4], 'Normal': [6, 0]}\n",
    "ig_humidity = calc_info_gain(humidity_data, total_entropy, total_samples)\n",
    "\n",
    "print(f\"Information Gain for Humidity: {ig_humidity:.4f}\")"
   ]
  },
  {
   "cell_type": "code",
   "execution_count": 58,
   "metadata": {},
   "outputs": [
    {
     "name": "stdout",
     "output_type": "stream",
     "text": [
      "Information Gain for Windy: 0.0032\n"
     ]
    }
   ],
   "source": [
    "# Data for Windy: True = [3 Yes, 2 No], False = [6 Yes, 3 No]\n",
    "windy_data = {'True': [3, 2], 'False': [6, 3]}\n",
    "ig_windy = calc_info_gain(windy_data, total_entropy, total_samples)\n",
    "\n",
    "print(f\"Information Gain for Windy: {ig_windy:.4f}\")"
   ]
  },
  {
   "cell_type": "code",
   "execution_count": 59,
   "metadata": {},
   "outputs": [
    {
     "name": "stdout",
     "output_type": "stream",
     "text": [
      "Information Gain for Windy: 0.0032\n"
     ]
    }
   ],
   "source": [
    "# Data for Windy: True = [3 Yes, 2 No], False = [6 Yes, 3 No]\n",
    "windy_data = {'True': [3, 2], 'False': [6, 3]}\n",
    "ig_windy = calc_info_gain(windy_data, total_entropy, total_samples)\n",
    "\n",
    "print(f\"Information Gain for Windy: {ig_windy:.4f}\")"
   ]
  },
  {
   "cell_type": "markdown",
   "metadata": {},
   "source": [
    "2. For a data set with 15 features what is the upper bound for the entropy? The unit for Information Theoretic entropy (base 2 log) is the bit"
   ]
  },
  {
   "cell_type": "code",
   "execution_count": 60,
   "metadata": {},
   "outputs": [],
   "source": [
    "# Number of features\n",
    "n_features = 15"
   ]
  },
  {
   "cell_type": "code",
   "execution_count": 61,
   "metadata": {},
   "outputs": [
    {
     "name": "stdout",
     "output_type": "stream",
     "text": [
      "Upper Bound for Entropy with 15 features: 3.9069 bits\n"
     ]
    }
   ],
   "source": [
    "# Calculate the upper bound for entropy\n",
    "upper_bound_entropy = np.log2(n_features)\n",
    "print(f\"Upper Bound for Entropy with {n_features} features: {upper_bound_entropy:.4f} bits\")"
   ]
  },
  {
   "cell_type": "markdown",
   "metadata": {},
   "source": [
    "3. Write Python code to create a bar chart representing the class distribution on the x-axis and entropy values on the y-axis for the following class\n",
    "\n",
    "        distributions:\n",
    "            [1.0, 0.0], [0.9, 0.1], [0.8, 0.2], ..., [0.2, 0.8], [0.1, 0.9], [0.0, 1.0]"
   ]
  },
  {
   "cell_type": "code",
   "execution_count": 62,
   "metadata": {},
   "outputs": [],
   "source": [
    "# Class distributions\n",
    "distributions = [[1.0, 0.0], [0.9, 0.1], [0.8, 0.2], [0.7, 0.3], \n",
    "                 [0.6, 0.4], [0.5, 0.5], [0.4, 0.6], [0.3, 0.7], \n",
    "                 [0.2, 0.8], [0.1, 0.9], [0.0, 1.0]]"
   ]
  },
  {
   "cell_type": "code",
   "execution_count": 63,
   "metadata": {},
   "outputs": [
    {
     "data": {
      "image/png": "[encoded data removed]",
      "text/plain": [
       "<Figure size 640x480 with 1 Axes>"
      ]
     },
     "metadata": {},
     "output_type": "display_data"
    }
   ],
   "source": [
    "# Calculate entropy for each distribution\n",
    "entropies = [entropy(d, base=2) for d in distributions]\n",
    "\n",
    "# Create a bar chart\n",
    "x_labels = [f\"{dist[0]:.1f}/{dist[1]:.1f}\" for dist in distributions]\n",
    "plt.bar(x_labels, entropies)\n",
    "plt.xlabel('Class Distribution (P1/P2)')\n",
    "plt.ylabel('Entropy (bits)')\n",
    "plt.title('Entropy of Different Class Distributions')\n",
    "plt.xticks(rotation=45)\n",
    "plt.show()"
   ]
  },
  {
   "cell_type": "markdown",
   "metadata": {},
   "source": [
    "4. You are working with a dataset that has 3 classes: A, B, and C, with the following distribution:\n",
    "\n",
    "        Class A: 40 samples,\n",
    "        Class B: 35 samples,\n",
    "        Class C: 25 samples.\n",
    "\n",
    "Calculate the Gini impurity for this dataset."
   ]
  },
  {
   "cell_type": "code",
   "execution_count": 64,
   "metadata": {},
   "outputs": [],
   "source": [
    "# Number of samples in each class\n",
    "class_A = 40\n",
    "class_B = 35\n",
    "class_C = 25\n",
    "\n",
    "# Total number of samples\n",
    "total_samples = class_A + class_B + class_C"
   ]
  },
  {
   "cell_type": "code",
   "execution_count": 65,
   "metadata": {},
   "outputs": [],
   "source": [
    "# Calculate proportions for each class\n",
    "p_A = class_A / total_samples\n",
    "p_B = class_B / total_samples\n",
    "p_C = class_C / total_samples\n",
    "\n",
    "# Calculate Gini impurity\n",
    "gini_impurity = 1 - (p_A**2 + p_B**2 + p_C**2)"
   ]
  },
  {
   "cell_type": "code",
   "execution_count": 66,
   "metadata": {},
   "outputs": [
    {
     "name": "stdout",
     "output_type": "stream",
     "text": [
      "Gini Impurity: 0.6550\n"
     ]
    }
   ],
   "source": [
    "print(f\"Gini Impurity: {gini_impurity:.4f}\")"
   ]
  }
 ],
 "metadata": {
  "kernelspec": {
   "display_name": "gpu_env",
   "language": "python",
   "name": "python3"
  },
  "language_info": {
   "codemirror_mode": {
    "name": "ipython",
    "version": 3
   },
   "file_extension": ".py",
   "mimetype": "text/x-python",
   "name": "python",
   "nbconvert_exporter": "python",
   "pygments_lexer": "ipython3",
   "version": "3.8.20"
  }
 },
 "nbformat": 4,
 "nbformat_minor": 2
}
