{
 "cells": [
  {
   "cell_type": "markdown",
   "metadata": {},
   "source": [
    "1. Write a Python script that divides a dataset into 5 folds using basic indexing\n",
    "without using any libraries like scikit-learn. Assume the dataset is a list of\n",
    "numbers from 1 to 20. Create 5 folds and print each fold. Sample Output:\n",
    "Fold 1: [1, 2, 3, 4]\n",
    "Fold 2: [5, 6, 7, 8]\n",
    "Fold 3: [9, 10, 11, 12]\n",
    "Fold 4: [13, 14, 15, 16]\n",
    "Fold 5: [17, 18, 19, 20]"
   ]
  },
  {
   "cell_type": "code",
   "execution_count": 4,
   "metadata": {},
   "outputs": [
    {
     "name": "stdout",
     "output_type": "stream",
     "text": [
      "Fold 1: [1, 2, 3, 4]\n",
      "Fold 2: [5, 6, 7, 8]\n",
      "Fold 3: [9, 10, 11, 12]\n",
      "Fold 4: [13, 14, 15, 16]\n",
      "Fold 5: [17, 18, 19, 20]\n"
     ]
    }
   ],
   "source": [
    "# Dataset from 1 to 20\n",
    "dataset = list(range(1, 21))\n",
    "\n",
    "# Number of folds\n",
    "num_folds = 5\n",
    "\n",
    "# Calculate fold size\n",
    "fold_size = len(dataset) // num_folds\n",
    "\n",
    "# Create folds\n",
    "folds = [dataset[i * fold_size: (i + 1) * fold_size] for i in range(num_folds)]\n",
    "\n",
    "# Print each fold\n",
    "for i, fold in enumerate(folds, start=1):\n",
    "    print(f\"Fold {i}: {fold}\")"
   ]
  },
  {
   "cell_type": "markdown",
   "metadata": {},
   "source": [
    "2. Using the folds generated in Question 1, write a script to create training and\n",
    "test sets for each fold iteration. For each fold, designate one fold as the test\n",
    "set and the rest as the training set. Print the train and test sets for each\n",
    "iteration. Print out the train and test set for each iteration. \n",
    "\n",
    "        Sample Output:\n",
    "        Iteration 1\n",
    "        Test Set: [1, 2, 3, 4]\n",
    "        Train Set: [5, 6, 7, 8, 9, 10, 11, 12, 13, 14, 15, 16, 17, 18, 19, 20]\n",
    "        ------------------------------\n",
    "        Iteration 2\n",
    "        Test Set: [5, 6, 7, 8]\n",
    "        Train Set: [1, 2, 3, 4, 9, 10, 11, 12, 13, 14, 15, 16, 17, 18, 19, 20]\n",
    "        ------------------------------\n",
    "        Iteration 3\n",
    "        Test Set: [9, 10, 11, 12]\n",
    "        Train Set: [1, 2, 3, 4, 5, 6, 7, 8, 13, 14, 15, 16, 17, 18, 19, 20]\n",
    "        ------------------------------\n",
    "        Iteration 4\n",
    "        Test Set: [13, 14, 15, 16]\n",
    "        Train Set: [1, 2, 3, 4, 5, 6, 7, 8, 9, 10, 11, 12, 17, 18, 19, 20]\n",
    "        ------------------------------\n",
    "        Iteration 5\n",
    "        Test Set: [17, 18, 19, 20]\n",
    "        Train Set: [1, 2, 3, 4, 5, 6, 7, 8, 9, 10, 11, 12, 13, 14, 15, 16]\n",
    "        ------------------------------"
   ]
  },
  {
   "cell_type": "code",
   "execution_count": 5,
   "metadata": {},
   "outputs": [
    {
     "name": "stdout",
     "output_type": "stream",
     "text": [
      "Iteration 1\n",
      "Test Set: [1, 2, 3, 4]\n",
      "Train Set: [5, 6, 7, 8, 9, 10, 11, 12, 13, 14, 15, 16, 17, 18, 19, 20]\n",
      "------------------------------\n",
      "Iteration 2\n",
      "Test Set: [5, 6, 7, 8]\n",
      "Train Set: [1, 2, 3, 4, 9, 10, 11, 12, 13, 14, 15, 16, 17, 18, 19, 20]\n",
      "------------------------------\n",
      "Iteration 3\n",
      "Test Set: [9, 10, 11, 12]\n",
      "Train Set: [1, 2, 3, 4, 5, 6, 7, 8, 13, 14, 15, 16, 17, 18, 19, 20]\n",
      "------------------------------\n",
      "Iteration 4\n",
      "Test Set: [13, 14, 15, 16]\n",
      "Train Set: [1, 2, 3, 4, 5, 6, 7, 8, 9, 10, 11, 12, 17, 18, 19, 20]\n",
      "------------------------------\n",
      "Iteration 5\n",
      "Test Set: [17, 18, 19, 20]\n",
      "Train Set: [1, 2, 3, 4, 5, 6, 7, 8, 9, 10, 11, 12, 13, 14, 15, 16]\n",
      "------------------------------\n"
     ]
    }
   ],
   "source": [
    "# Number of folds\n",
    "num_folds = 5\n",
    "\n",
    "# Calculate fold size\n",
    "fold_size = len(dataset) // num_folds\n",
    "\n",
    "# Create folds\n",
    "folds = [dataset[i * fold_size: (i + 1) * fold_size] for i in range(num_folds)]\n",
    "\n",
    "# Iterate through each fold as the test set\n",
    "for i in range(num_folds):\n",
    "    # Set one fold as the test set\n",
    "    test_set = folds[i]\n",
    "    # Combine the remaining folds as the train set\n",
    "    train_set = [item for j in range(num_folds) if j != i for item in folds[j]]\n",
    "    \n",
    "    # Print the iteration, test set, and train set\n",
    "    print(f\"Iteration {i + 1}\")\n",
    "    print(f\"Test Set: {test_set}\")\n",
    "    print(f\"Train Set: {train_set}\")\n",
    "    print(\"-\" * 30)"
   ]
  },
  {
   "cell_type": "markdown",
   "metadata": {},
   "source": [
    "3. Modify the script from Question 1 to shuffle the data before creating the\n",
    "folds. Shuffle the data using Python's random module, then create 5 folds.\n",
    "\n",
    "    Fold 1: [8, 7, 5, 3]\n",
    "    Fold 2: [14, 15, 18, 13]\n",
    "    Fold 3: [20, 2, 16, 19]\n",
    "    Fold 4: [9, 10, 11, 12]\n",
    "    Fold 5: [17, 1, 6, 4]"
   ]
  },
  {
   "cell_type": "code",
   "execution_count": 6,
   "metadata": {},
   "outputs": [
    {
     "name": "stdout",
     "output_type": "stream",
     "text": [
      "Fold 1: [13, 4, 1, 6]\n",
      "Fold 2: [12, 15, 9, 11]\n",
      "Fold 3: [10, 18, 2, 7]\n",
      "Fold 4: [20, 16, 3, 14]\n",
      "Fold 5: [17, 8, 19, 5]\n"
     ]
    }
   ],
   "source": [
    "import random\n",
    "\n",
    "# Shuffle the dataset\n",
    "random.shuffle(dataset)\n",
    "\n",
    "# Number of folds\n",
    "num_folds = 5\n",
    "\n",
    "# Calculate fold size\n",
    "fold_size = len(dataset) // num_folds\n",
    "\n",
    "# Create folds\n",
    "folds = [dataset[i * fold_size: (i + 1) * fold_size] for i in range(num_folds)]\n",
    "\n",
    "# Print each fold\n",
    "for i, fold in enumerate(folds, start=1):\n",
    "    print(f\"Fold {i}: {fold}\")"
   ]
  },
  {
   "cell_type": "code",
   "execution_count": 7,
   "metadata": {},
   "outputs": [
    {
     "name": "stdout",
     "output_type": "stream",
     "text": [
      "Fold 1: [5, 15, 4, 6]\n",
      "Fold 2: [20, 1, 9, 13]\n",
      "Fold 3: [10, 8, 18, 12]\n",
      "Fold 4: [7, 16, 3, 14]\n",
      "Fold 5: [11, 2, 19, 17]\n"
     ]
    }
   ],
   "source": [
    "# Shuffle algorithm\n",
    "for i in range(len(dataset) - 1, 0, -1):\n",
    "    # Generate a random index to swap with\n",
    "    j = (i + 1) * 7 % len(dataset) \\\n",
    "\n",
    "    # Swap elements\n",
    "    dataset[i], dataset[j] = dataset[j], dataset[i]\n",
    "\n",
    "# Number of folds\n",
    "num_folds = 5\n",
    "\n",
    "# Calculate fold size\n",
    "fold_size = len(dataset) // num_folds\n",
    "\n",
    "# Create folds\n",
    "folds = [dataset[i * fold_size: (i + 1) * fold_size] for i in range(num_folds)]\n",
    "\n",
    "# Print each fold\n",
    "for i, fold in enumerate(folds, start=1):\n",
    "    print(f\"Fold {i}: {fold}\")"
   ]
  },
  {
   "cell_type": "markdown",
   "metadata": {},
   "source": [
    "4. Write a function in Python that calculates the size of each fold given any\n",
    "dataset length and number of folds.Define a function\n",
    "calculate_fold_size(data_length, k) and use it to calculate fold sizes for a list\n",
    "of 25 items with 4 folds. \n",
    "\n",
    "        Sample ouput:\n",
    "        Each fold size: 6, Remainder: 1"
   ]
  },
  {
   "cell_type": "code",
   "execution_count": 8,
   "metadata": {},
   "outputs": [
    {
     "name": "stdout",
     "output_type": "stream",
     "text": [
      "Each fold size: 6, Remainder: 1\n"
     ]
    }
   ],
   "source": [
    "def calculate_fold_size(data_length, k):\n",
    "    # Calculate the size of each fold\n",
    "    fold_size = data_length // k\n",
    "    # Calculate the remainder\n",
    "    remainder = data_length % k\n",
    "    \n",
    "    print(f\"Each fold size: {fold_size}, Remainder: {remainder}\")\n",
    "\n",
    "# Example usage\n",
    "data_length = 25\n",
    "num_folds = 4\n",
    "\n",
    "calculate_fold_size(data_length, num_folds)\n"
   ]
  },
  {
   "cell_type": "code",
   "execution_count": 9,
   "metadata": {},
   "outputs": [
    {
     "name": "stdout",
     "output_type": "stream",
     "text": [
      "Each fold size: 6, Remainder: 1\n"
     ]
    }
   ],
   "source": [
    "# Given dataset length and number of folds\n",
    "data_length = 25\n",
    "num_folds = 4\n",
    "\n",
    "# Calculate the size of each fold\n",
    "fold_size = data_length // num_folds\n",
    "\n",
    "# Calculate the remainder\n",
    "remainder = data_length % num_folds\n",
    "\n",
    "# Print the result\n",
    "print(f\"Each fold size: {fold_size}, Remainder: {remainder}\")"
   ]
  },
  {
   "cell_type": "markdown",
   "metadata": {},
   "source": [
    "5. Use scikit-learn’s KFold class to split the sample list of numbers from 1 to 20\n",
    "into 4 folds. Use the KFold class from sklearn.model_selection to create 4\n",
    "folds and print the indices of training and test sets for each fold. Sample\n",
    "\n",
    "        output:\n",
    "\n",
    "        Iteration 1\n",
    "        Train indices: [ 5 6 7 8 9 10 11 12 13 14 15 16 17 18 19]\n",
    "        Test indices: [0 1 2 3 4]\n",
    "        ------------------------------\n",
    "        Iteration 2\n",
    "        Train indices: [ 0 1 2 3 4 10 11 12 13 14 15 16 17 18 19]\n",
    "        Test indices: [5 6 7 8 9]\n",
    "        ------------------------------\n",
    "        Iteration 3\n",
    "        Train indices: [ 0 1 2 3 4 5 6 7 8 9 15 16 17 18 19]\n",
    "        Test indices: [10 11 12 13 14]\n",
    "        ------------------------------\n",
    "        Iteration 4\n",
    "        Train indices: [ 0 1 2 3 4 5 6 7 8 9 10 11 12 13 14]\n",
    "        Test indices: [15 16 17 18 19]\n",
    "        ------------------------------"
   ]
  },
  {
   "cell_type": "code",
   "execution_count": 10,
   "metadata": {},
   "outputs": [
    {
     "name": "stdout",
     "output_type": "stream",
     "text": [
      "Iteration 1\n",
      "Train indices: [ 5  6  7  8  9 10 11 12 13 14 15 16 17 18 19]\n",
      "Test indices: [0 1 2 3 4]\n",
      "------------------------------\n",
      "Iteration 2\n",
      "Train indices: [ 0  1  2  3  4 10 11 12 13 14 15 16 17 18 19]\n",
      "Test indices: [5 6 7 8 9]\n",
      "------------------------------\n",
      "Iteration 3\n",
      "Train indices: [ 0  1  2  3  4  5  6  7  8  9 15 16 17 18 19]\n",
      "Test indices: [10 11 12 13 14]\n",
      "------------------------------\n",
      "Iteration 4\n",
      "Train indices: [ 0  1  2  3  4  5  6  7  8  9 10 11 12 13 14]\n",
      "Test indices: [15 16 17 18 19]\n",
      "------------------------------\n"
     ]
    }
   ],
   "source": [
    "from sklearn.model_selection import KFold\n",
    "import numpy as np\n",
    "\n",
    "# Sample list of numbers from 1 to 20\n",
    "data = np.arange(20)\n",
    "\n",
    "# Initialize KFold with 4 splits\n",
    "kf = KFold(n_splits=4, shuffle=False)\n",
    "\n",
    "# Iterate over each fold\n",
    "for i, (train_index, test_index) in enumerate(kf.split(data)):\n",
    "    print(f\"Iteration {i + 1}\")\n",
    "    print(f\"Train indices: {train_index}\")\n",
    "    print(f\"Test indices: {test_index}\")\n",
    "    print(\"-\" * 30)"
   ]
  },
  {
   "cell_type": "markdown",
   "metadata": {},
   "source": [
    "6. Given the performance scores for each fold as [0.8, 0.75, 0.82, 0.78, 0.80],\n",
    "calculate the average performance. Write a Python function to compute the\n",
    "average score. \n",
    "\n",
    "        Sample output:\n",
    "\n",
    "        Average Performance: 0.85"
   ]
  },
  {
   "cell_type": "code",
   "execution_count": 11,
   "metadata": {},
   "outputs": [
    {
     "name": "stdout",
     "output_type": "stream",
     "text": [
      "Average Performance: 0.79\n"
     ]
    }
   ],
   "source": [
    "def calculate_average_performance(scores):\n",
    "    # Calculate the average score\n",
    "    average_score = sum(scores) / len(scores)\n",
    "    return average_score\n",
    "\n",
    "# Given performance scores for each fold\n",
    "scores = [0.8, 0.75, 0.82, 0.78, 0.80]\n",
    "\n",
    "# Calculate average performance\n",
    "average_performance = calculate_average_performance(scores)\n",
    "\n",
    "# Print the average performance\n",
    "print(f\"Average Performance: {average_performance:.2f}\")"
   ]
  },
  {
   "cell_type": "code",
   "execution_count": 12,
   "metadata": {},
   "outputs": [
    {
     "name": "stdout",
     "output_type": "stream",
     "text": [
      "Average Performance: 0.79\n"
     ]
    }
   ],
   "source": [
    "# Given performance scores for each fold\n",
    "scores = [0.8, 0.75, 0.82, 0.78, 0.80]\n",
    "\n",
    "# Calculate the average score\n",
    "average_score = sum(scores) / len(scores)\n",
    "\n",
    "# Print the average performance\n",
    "print(f\"Average Performance: {average_score:.2f}\")"
   ]
  }
 ],
 "metadata": {
  "kernelspec": {
   "display_name": "gpu_env",
   "language": "python",
   "name": "python3"
  },
  "language_info": {
   "codemirror_mode": {
    "name": "ipython",
    "version": 3
   },
   "file_extension": ".py",
   "mimetype": "text/x-python",
   "name": "python",
   "nbconvert_exporter": "python",
   "pygments_lexer": "ipython3",
   "version": "3.8.20"
  }
 },
 "nbformat": 4,
 "nbformat_minor": 2
}
